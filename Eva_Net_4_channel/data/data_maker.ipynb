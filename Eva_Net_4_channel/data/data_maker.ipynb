{
 "cells": [
  {
   "cell_type": "code",
   "execution_count": 1,
   "id": "60865218",
   "metadata": {},
   "outputs": [],
   "source": [
    "import torch\n",
    "import os\n",
    "import re\n",
    "import numpy as np\n",
    "import math\n",
    "from matplotlib import pyplot as plt\n",
    "import sys\n",
    "\n",
    "sys.path.append(\"../\")\n",
    "import config\n",
    "from config import *\n",
    "\n",
    "import shutil\n",
    "\n",
    "from tqdm import tqdm"
   ]
  },
  {
   "cell_type": "code",
   "execution_count": 2,
   "id": "dfe5982d",
   "metadata": {},
   "outputs": [],
   "source": [
    "def pad_data(unpadded_data, is_feature = False):\n",
    "    \n",
    "    height = unpadded_data.shape[0]\n",
    "    width = unpadded_data.shape[1]\n",
    "    \n",
    "#     print(\"height: \", height)\n",
    "#     print(\"width: \", width)\n",
    "    \n",
    "    width_multiplier = math.ceil(width/SPATIAL_SIZE)\n",
    "    height_multiplier = math.ceil(height/SPATIAL_SIZE)\n",
    "    \n",
    "#     print(\"width_multiplier: \", width_multiplier)\n",
    "#     print(\"height_multiplier: \", height_multiplier)\n",
    "    \n",
    "    new_width = SPATIAL_SIZE*width_multiplier\n",
    "    new_height = SPATIAL_SIZE*height_multiplier\n",
    "#     print(\"new_width: \", new_width)\n",
    "#     print(\"new_height: \", new_height)\n",
    "    \n",
    "    width_pad = new_width-width\n",
    "    height_pad = new_height-height\n",
    "    \n",
    "#     print(\"width_pad: \", width_pad)\n",
    "#     print(\"height_pad: \", height_pad)\n",
    "    \n",
    "        \n",
    "    if width_pad%2 == 0:\n",
    "        left = int(width_pad/2)\n",
    "        right = int(width_pad/2)\n",
    "    else:\n",
    "        print(\"Odd Width\")\n",
    "        left = math.floor(width_pad/2)\n",
    "        right = left+1\n",
    "    \n",
    "    if height_pad%2 == 0:\n",
    "        top = int(height_pad/2)\n",
    "        bottom = int(height_pad/2)\n",
    "    else:\n",
    "        print(\"Odd Height\")\n",
    "        top = math.floor(height_pad/2)\n",
    "        bottom = top+1\n",
    "    \n",
    "#     print(\"left: \", left)\n",
    "#     print(\"right: \", right)\n",
    "#     print(\"top: \", top)\n",
    "#     print(\"bottom: \", bottom)\n",
    "        \n",
    "    if is_feature:\n",
    "        data_padded = np.pad(unpadded_data, pad_width = ((top, bottom),(left, right), (0, 0)), mode = 'reflect')\n",
    "        \n",
    "#         plt.figure(figsize=(10,10))\n",
    "#         plt.imshow(data_padded[:,:,:3].astype('int'))\n",
    "    else:\n",
    "        data_padded = np.pad(unpadded_data, pad_width = ((top, bottom), (left, right)), mode = 'reflect')\n",
    "        \n",
    "    assert data_padded.shape[0]%SPATIAL_SIZE == 0, f\"Padded height must be multiple of SPATIAL_SIZE: {SPATIAL_SIZE}\"\n",
    "    assert data_padded.shape[1]%SPATIAL_SIZE == 0, f\"Padded width must be multiple of SPATIAL_SIZE: {SPATIAL_SIZE}\"\n",
    "        \n",
    "#     print(\"data_padded: \", data_padded.shape, \"\\n\")\n",
    "    return data_padded"
   ]
  },
  {
   "cell_type": "code",
   "execution_count": 3,
   "id": "7f92d0fa",
   "metadata": {},
   "outputs": [],
   "source": [
    "def crop_data(uncropped_data, filename, is_feature = False):\n",
    "    \n",
    "    output_path = \"./cropped\"\n",
    "    if not os.path.exists(output_path):\n",
    "        os.mkdir(output_path)\n",
    "    \n",
    "    height = uncropped_data.shape[0]\n",
    "    width = uncropped_data.shape[1]\n",
    "    \n",
    "    print(\"crop input height: \", height)\n",
    "    print(\"crop input width: \", width)\n",
    "    \n",
    "    vertial_patches = height//SPATIAL_SIZE\n",
    "    horizontal_patches = width//SPATIAL_SIZE\n",
    "    \n",
    "    print(\"vertial_patches: \", vertial_patches)\n",
    "    print(\"horizontal_patches: \", horizontal_patches)\n",
    "    print(filename)\n",
    "    \n",
    "    cropped_data = []\n",
    "    \n",
    "    for y in range(0, vertial_patches):\n",
    "        for x in range(0, horizontal_patches):\n",
    "            \n",
    "            if is_feature:\n",
    "                new_name = filename[:8]+\"_y_\"+str(y)+\"_x_\"+str(x)+\"_features.npy\"\n",
    "            else:\n",
    "                new_name = filename[:8]+\"_y_\"+str(y)+\"_x_\"+str(x)+\"_label.npy\"\n",
    "            \n",
    "            # print(\"new_name: \", new_name)\n",
    "            \n",
    "            x_start = (x)*SPATIAL_SIZE\n",
    "            x_end = (x+1)*SPATIAL_SIZE\n",
    "            \n",
    "            y_start = (y)*SPATIAL_SIZE\n",
    "            y_end = (y+1)*SPATIAL_SIZE\n",
    "            \n",
    "            patch = uncropped_data[y_start: y_end, x_start:x_end]\n",
    "            \n",
    "            # print(patch.shape)\n",
    "            \n",
    "            np.save(os.path.join(output_path, new_name), patch)"
   ]
  },
  {
   "cell_type": "code",
   "execution_count": 4,
   "id": "6bc77493",
   "metadata": {
    "scrolled": false
   },
   "outputs": [],
   "source": [
    "def make_data(feature_files, data_path):\n",
    "    \n",
    "    for feature_file in tqdm(feature_files):\n",
    "        ## Load feature data:\n",
    "        feature_data = np.load(os.path.join(data_path, feature_file))\n",
    "        # print(\"feature_data.shape: \", feature_data.shape)\n",
    "\n",
    "        ## Load label data:\n",
    "        label_file = feature_file[:8]+\"_labels.npy\"\n",
    "        try:\n",
    "            label_data = np.load(os.path.join(data_path, label_file))\n",
    "            print(label_data.shape)\n",
    "        except:\n",
    "            print(f\"No such files as {label_file}\")\n",
    "\n",
    "        ###########Padd data to fit SPATIAL_SIZE pathches######################################\n",
    "        padded_feature = pad_data(feature_data, is_feature = True)\n",
    "        padded_label = pad_data(label_data)\n",
    "\n",
    "        # print(\"padded_feature.shape: \", padded_feature.shape)\n",
    "        # print(\"padded_label.shape: \", padded_label.shape)\n",
    "\n",
    "        ###########Crop data to SPATIAL_SIZE pathches######################################\n",
    "        cropped_feature = crop_data(padded_feature, feature_file, is_feature = True)\n",
    "        cropped_label = crop_data(padded_label, label_file)"
   ]
  },
  {
   "cell_type": "code",
   "execution_count": 5,
   "id": "276be591",
   "metadata": {},
   "outputs": [],
   "source": [
    "def make_dir(feature_files):\n",
    "    \n",
    "    region_path_dict = dict()\n",
    "    \n",
    "    for feature_file in feature_files:\n",
    "        region_num = int(feature_file.split(\"_\")[1])\n",
    "        \n",
    "        if region_num == 1 and not os.path.exists(\"./Region_2_3_TRAIN_Region_1_TEST\"):\n",
    "            os.mkdir(\"./Region_2_3_TRAIN_Region_1_TEST\")\n",
    "            os.mkdir(\"./Region_2_3_TRAIN_Region_1_TEST/cropped_data_train\")\n",
    "            os.mkdir(\"./Region_2_3_TRAIN_Region_1_TEST/cropped_data_val_test\")\n",
    "        elif region_num == 2 and not os.path.exists(\"./Region_1_3_TRAIN_Region_2_TEST\"):\n",
    "            os.mkdir(\"./Region_1_3_TRAIN_Region_2_TEST\")\n",
    "            os.mkdir(\"./Region_1_3_TRAIN_Region_2_TEST/cropped_data_train\")\n",
    "            os.mkdir(\"./Region_1_3_TRAIN_Region_2_TEST/cropped_data_val_test\")\n",
    "        elif region_num == 3 and not os.path.exists(\"./Region_1_2_TRAIN_Region_3_TEST\"):\n",
    "            os.mkdir(\"./Region_1_2_TRAIN_Region_3_TEST\")\n",
    "            os.mkdir(\"./Region_1_2_TRAIN_Region_3_TEST/cropped_data_train\")\n",
    "            os.mkdir(\"./Region_1_2_TRAIN_Region_3_TEST/cropped_data_val_test\")\n",
    "        "
   ]
  },
  {
   "cell_type": "code",
   "execution_count": 6,
   "id": "f2fbd713",
   "metadata": {},
   "outputs": [],
   "source": [
    "def move_files(feature_files):\n",
    "    \n",
    "    for feature_file in feature_files:\n",
    "        \n",
    "        print(\"Processing: \", feature_file)\n",
    "        region_num = int(feature_file.split(\"_\")[1])\n",
    "        \n",
    "        for file in tqdm(os.listdir(\"./cropped\")):\n",
    "            file_region_num = int(file.split(\"_\")[1])\n",
    "            source = os.path.join(\"./cropped\", file)\n",
    "            \n",
    "            if region_num == 1:\n",
    "                if region_num == file_region_num:\n",
    "                    destination = os.path.join(\"./Region_2_3_TRAIN_Region_1_TEST/cropped_data_val_test\", file)\n",
    "                    shutil.copyfile(source, destination)\n",
    "                else:\n",
    "                    destination = os.path.join(\"./Region_2_3_TRAIN_Region_1_TEST/cropped_data_train\", file)\n",
    "                    shutil.copyfile(source, destination)\n",
    "            elif region_num == 2:\n",
    "                if region_num == file_region_num:\n",
    "                    destination = os.path.join(\"./Region_1_3_TRAIN_Region_2_TEST/cropped_data_val_test\", file)\n",
    "                    shutil.copyfile(source, destination)\n",
    "                else:\n",
    "                    destination = os.path.join(\"./Region_1_3_TRAIN_Region_2_TEST/cropped_data_train\", file)\n",
    "                    shutil.copyfile(source, destination)\n",
    "            else:\n",
    "                if region_num == file_region_num:\n",
    "                    destination = os.path.join(\"./Region_1_2_TRAIN_Region_3_TEST/cropped_data_val_test\", file)\n",
    "                    shutil.copyfile(source, destination)\n",
    "                else:\n",
    "                    destination = os.path.join(\"./Region_1_2_TRAIN_Region_3_TEST/cropped_data_train\", file)\n",
    "                    shutil.copyfile(source, destination)            "
   ]
  },
  {
   "cell_type": "code",
   "execution_count": 7,
   "id": "5eb231a4",
   "metadata": {},
   "outputs": [],
   "source": [
    "def main():\n",
    "    \n",
    "    data_path = \"./repo/FloodNetData\"\n",
    "    \n",
    "    data_files = os.listdir(data_path)\n",
    "\n",
    "    ## only keep .npy file and features\n",
    "    feature_files = [file for file in data_files if file.endswith(\".npy\") and re.match(\".*Features.*\", file) ]\n",
    "    # print(\"Files Found: \", feature_files)\n",
    "    \n",
    "    ## Make directories for train_test regions \n",
    "    make_dir(feature_files)\n",
    "    \n",
    "    ## Pad and crop data\n",
    "    make_data(feature_files, data_path)\n",
    "    \n",
    "    ## Move image crops to directory\n",
    "    move_files(feature_files)\n",
    "    "
   ]
  },
  {
   "cell_type": "code",
   "execution_count": 8,
   "id": "770d077b",
   "metadata": {},
   "outputs": [
    {
     "name": "stderr",
     "output_type": "stream",
     "text": [
      "\r",
      "  0%|          | 0/3 [00:00<?, ?it/s]"
     ]
    },
    {
     "name": "stdout",
     "output_type": "stream",
     "text": [
      "(1856, 4104)\n",
      "crop input height:  1920\n",
      "crop input width:  4224\n",
      "vertial_patches:  15\n",
      "horizontal_patches:  33\n",
      "Region_1_Features7Channel.npy\n",
      "crop input height:  1920\n",
      "crop input width:  4224\n",
      "vertial_patches:  15\n",
      "horizontal_patches:  33\n",
      "Region_1_labels.npy\n"
     ]
    },
    {
     "name": "stderr",
     "output_type": "stream",
     "text": [
      "\r",
      " 33%|███▎      | 1/3 [00:03<00:07,  3.81s/it]"
     ]
    },
    {
     "name": "stdout",
     "output_type": "stream",
     "text": [
      "(1792, 4032)\n",
      "crop input height:  1792\n",
      "crop input width:  4096\n",
      "vertial_patches:  14\n",
      "horizontal_patches:  32\n",
      "Region_2_Features7Channel.npy\n",
      "crop input height:  1792\n",
      "crop input width:  4096\n",
      "vertial_patches:  14\n",
      "horizontal_patches:  32\n",
      "Region_2_labels.npy\n"
     ]
    },
    {
     "name": "stderr",
     "output_type": "stream",
     "text": [
      "\r",
      " 67%|██████▋   | 2/3 [00:06<00:03,  3.32s/it]"
     ]
    },
    {
     "name": "stdout",
     "output_type": "stream",
     "text": [
      "(2240, 4704)\n",
      "crop input height:  2304\n",
      "crop input width:  4736\n",
      "vertial_patches:  18\n",
      "horizontal_patches:  37\n",
      "Region_3_Features7Channel.npy\n",
      "crop input height:  2304\n",
      "crop input width:  4736\n",
      "vertial_patches:  18\n",
      "horizontal_patches:  37\n",
      "Region_3_labels.npy\n"
     ]
    },
    {
     "name": "stderr",
     "output_type": "stream",
     "text": [
      "100%|██████████| 3/3 [00:11<00:00,  3.79s/it]\n"
     ]
    },
    {
     "name": "stdout",
     "output_type": "stream",
     "text": [
      "Processing:  Region_1_Features7Channel.npy\n"
     ]
    },
    {
     "name": "stderr",
     "output_type": "stream",
     "text": [
      "100%|██████████| 3218/3218 [00:06<00:00, 463.77it/s]\n"
     ]
    },
    {
     "name": "stdout",
     "output_type": "stream",
     "text": [
      "Processing:  Region_2_Features7Channel.npy\n"
     ]
    },
    {
     "name": "stderr",
     "output_type": "stream",
     "text": [
      "100%|██████████| 3218/3218 [00:09<00:00, 354.81it/s]\n"
     ]
    },
    {
     "name": "stdout",
     "output_type": "stream",
     "text": [
      "Processing:  Region_3_Features7Channel.npy\n"
     ]
    },
    {
     "name": "stderr",
     "output_type": "stream",
     "text": [
      "100%|██████████| 3218/3218 [00:09<00:00, 337.93it/s]\n"
     ]
    }
   ],
   "source": [
    "main()"
   ]
  },
  {
   "cell_type": "code",
   "execution_count": null,
   "id": "366f497b",
   "metadata": {},
   "outputs": [],
   "source": []
  },
  {
   "cell_type": "code",
   "execution_count": null,
   "id": "b2ae2a01",
   "metadata": {},
   "outputs": [],
   "source": []
  },
  {
   "cell_type": "code",
   "execution_count": null,
   "id": "ba48a4ae",
   "metadata": {},
   "outputs": [],
   "source": []
  }
 ],
 "metadata": {
  "anaconda-cloud": {},
  "kernelspec": {
   "display_name": "Python [conda env:.conda-elev]",
   "language": "python",
   "name": "conda-env-.conda-elev-py"
  },
  "language_info": {
   "codemirror_mode": {
    "name": "ipython",
    "version": 3
   },
   "file_extension": ".py",
   "mimetype": "text/x-python",
   "name": "python",
   "nbconvert_exporter": "python",
   "pygments_lexer": "ipython3",
   "version": "3.7.13"
  }
 },
 "nbformat": 4,
 "nbformat_minor": 5
}
