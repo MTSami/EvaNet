{
 "cells": [
  {
   "cell_type": "code",
   "execution_count": null,
   "id": "5d0ede46",
   "metadata": {},
   "outputs": [],
   "source": [
    "import cv2\n",
    "import matplotlib.pyplot as plt\n",
    "\n",
    "import os"
   ]
  },
  {
   "cell_type": "code",
   "execution_count": null,
   "id": "ff6c3434",
   "metadata": {},
   "outputs": [],
   "source": [
    "base_dir = os.getcwd()\n",
    "print(base_dir)"
   ]
  },
  {
   "cell_type": "markdown",
   "id": "a66b5e15",
   "metadata": {},
   "source": [
    "# Eva-Net"
   ]
  },
  {
   "cell_type": "code",
   "execution_count": null,
   "id": "3918ad12",
   "metadata": {},
   "outputs": [],
   "source": [
    "os.chdir(os.path.join(base_dir, \"./Eva_Net_4_channel\"))"
   ]
  },
  {
   "cell_type": "markdown",
   "id": "b061ec60",
   "metadata": {},
   "source": [
    "## Training"
   ]
  },
  {
   "cell_type": "code",
   "execution_count": null,
   "id": "b0f85707",
   "metadata": {},
   "outputs": [],
   "source": [
    "!python main.py --mode training\\\n",
    "                --train_region Region_1_3_TRAIN\\\n",
    "                --epochs 350\\\n",
    "                --lr 1e-6\\\n",
    "                --val_freq 1\\\n",
    "                --saved_model_epoch 100"
   ]
  },
  {
   "cell_type": "markdown",
   "id": "92949bc8",
   "metadata": {},
   "source": [
    "## Run Prediciton"
   ]
  },
  {
   "cell_type": "code",
   "execution_count": null,
   "id": "6f740050",
   "metadata": {},
   "outputs": [],
   "source": [
    "!python main.py --mode testing\\\n",
    "                --test_region Region_2_TEST\\\n",
    "                --saved_model_epoch 135\\\n",
    "                --out_dir /output\\\n",
    "                --save_model_dir /saved_models\\"
   ]
  },
  {
   "cell_type": "markdown",
   "id": "a5b82de4",
   "metadata": {},
   "source": [
    "## Visualize Eva-Net Prediciton"
   ]
  },
  {
   "cell_type": "code",
   "execution_count": null,
   "id": "81020d9e",
   "metadata": {},
   "outputs": [],
   "source": [
    "overlay = cv2.cvtColor(cv2.imread(\"./output/Region_2_overlay.jpg\"), cv2.COLOR_BGR2RGB)\n",
    "plt.figure(figsize=(10,10))\n",
    "plt.imshow(overlay)"
   ]
  },
  {
   "cell_type": "code",
   "execution_count": null,
   "id": "9e19b022",
   "metadata": {},
   "outputs": [],
   "source": []
  },
  {
   "cell_type": "markdown",
   "id": "2d0a8b85",
   "metadata": {},
   "source": [
    "# U-Net 3-Channel Input"
   ]
  },
  {
   "cell_type": "code",
   "execution_count": null,
   "id": "3a5b934b",
   "metadata": {},
   "outputs": [],
   "source": [
    "os.chdir(os.path.join(base_dir, \"./U_net_3_channel\"))"
   ]
  },
  {
   "cell_type": "markdown",
   "id": "3c4e77cd",
   "metadata": {},
   "source": [
    "## Training"
   ]
  },
  {
   "cell_type": "code",
   "execution_count": null,
   "id": "706cc480",
   "metadata": {
    "scrolled": true
   },
   "outputs": [],
   "source": [
    "!python main.py --mode training\\\n",
    "                --train_region Region_1_3_TRAIN\\\n",
    "                --epochs 200\\\n",
    "                --lr 1e-6\\\n",
    "                --val_freq 10\\\n",
    "                --saved_model_epoch 100"
   ]
  },
  {
   "cell_type": "markdown",
   "id": "488a1cfc",
   "metadata": {},
   "source": [
    "## Run Prediciton"
   ]
  },
  {
   "cell_type": "code",
   "execution_count": null,
   "id": "0940d987",
   "metadata": {},
   "outputs": [],
   "source": [
    "!python main.py --mode testing\\\n",
    "                --test_region Region_2_TEST\\\n",
    "                --saved_model_epoch 110\\\n",
    "                --out_dir /output\\\n",
    "                --save_model_dir /saved_models\\"
   ]
  },
  {
   "cell_type": "markdown",
   "id": "0f5fa7c5",
   "metadata": {},
   "source": [
    "## Visualize Prediciton"
   ]
  },
  {
   "cell_type": "code",
   "execution_count": null,
   "id": "c6c5f2fd",
   "metadata": {},
   "outputs": [],
   "source": [
    "overlay = cv2.cvtColor(cv2.imread(\"./output/Region_2_overlay.jpg\"), cv2.COLOR_BGR2RGB)\n",
    "plt.figure(figsize=(10,10))\n",
    "plt.imshow(overlay)"
   ]
  },
  {
   "cell_type": "code",
   "execution_count": null,
   "id": "5f919bc4",
   "metadata": {},
   "outputs": [],
   "source": []
  },
  {
   "cell_type": "markdown",
   "id": "2b238c68",
   "metadata": {},
   "source": [
    "# U-Net 4-Channel Input"
   ]
  },
  {
   "cell_type": "code",
   "execution_count": null,
   "id": "459f5324",
   "metadata": {},
   "outputs": [],
   "source": [
    "os.chdir(os.path.join(base_dir, \"./U_net_4_channel\"))"
   ]
  },
  {
   "cell_type": "markdown",
   "id": "6acac717",
   "metadata": {},
   "source": [
    "## Training"
   ]
  },
  {
   "cell_type": "code",
   "execution_count": null,
   "id": "48fd50a9",
   "metadata": {},
   "outputs": [],
   "source": [
    "!python main.py --mode training\\\n",
    "                --train_region Region_1_3_TRAIN\\\n",
    "                --epochs 200\\\n",
    "                --lr 1e-6\\\n",
    "                --val_freq 10\\\n",
    "                --saved_model_epoch 100"
   ]
  },
  {
   "cell_type": "markdown",
   "id": "6580619c",
   "metadata": {},
   "source": [
    "## Run Prediciton"
   ]
  },
  {
   "cell_type": "code",
   "execution_count": null,
   "id": "d38d2832",
   "metadata": {},
   "outputs": [],
   "source": [
    "!python main.py --mode testing\\\n",
    "                --test_region Region_2_TEST\\\n",
    "                --saved_model_epoch 50\\\n",
    "                --out_dir /output\\\n",
    "                --save_model_dir /saved_models\\"
   ]
  },
  {
   "cell_type": "markdown",
   "id": "eb7c95a2",
   "metadata": {},
   "source": [
    "## Visualize U-Net Prediciton"
   ]
  },
  {
   "cell_type": "code",
   "execution_count": null,
   "id": "1d0af92f",
   "metadata": {},
   "outputs": [],
   "source": [
    "overlay = cv2.cvtColor(cv2.imread(\"./output/Region_2_overlay.jpg\"), cv2.COLOR_BGR2RGB)\n",
    "plt.figure(figsize=(10,10))\n",
    "plt.imshow(overlay)"
   ]
  },
  {
   "cell_type": "code",
   "execution_count": null,
   "id": "08d448f8",
   "metadata": {},
   "outputs": [],
   "source": []
  }
 ],
 "metadata": {
  "anaconda-cloud": {},
  "kernelspec": {
   "display_name": "Python [conda env:.conda-elev]",
   "language": "python",
   "name": "conda-env-.conda-elev-py"
  },
  "language_info": {
   "codemirror_mode": {
    "name": "ipython",
    "version": 3
   },
   "file_extension": ".py",
   "mimetype": "text/x-python",
   "name": "python",
   "nbconvert_exporter": "python",
   "pygments_lexer": "ipython3",
   "version": "3.7.13"
  }
 },
 "nbformat": 4,
 "nbformat_minor": 5
}
